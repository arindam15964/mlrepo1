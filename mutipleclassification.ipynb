{
  "nbformat": 4,
  "nbformat_minor": 0,
  "metadata": {
    "colab": {
      "name": "mutipleclassification.ipynb",
      "provenance": [],
      "collapsed_sections": [],
      "mount_file_id": "1fHcw5EnFdmJn-424c9CiIiA2fAX8sJvm",
      "authorship_tag": "ABX9TyOsbhftnSJO/jpPnMoAWuZ5",
      "include_colab_link": true
    },
    "kernelspec": {
      "name": "python3",
      "display_name": "Python 3"
    }
  },
  "cells": [
    {
      "cell_type": "markdown",
      "metadata": {
        "id": "view-in-github",
        "colab_type": "text"
      },
      "source": [
        "<a href=\"https://colab.research.google.com/github/arindam15964/mlrepo1/blob/master/mutipleclassification.ipynb\" target=\"_parent\"><img src=\"https://colab.research.google.com/assets/colab-badge.svg\" alt=\"Open In Colab\"/></a>"
      ]
    },
    {
      "cell_type": "code",
      "metadata": {
        "id": "DUfN60dKwCo1",
        "colab_type": "code",
        "colab": {
          "base_uri": "https://localhost:8080/",
          "height": 34
        },
        "outputId": "7f67a7fa-cbd0-423c-c056-6a257a73063d"
      },
      "source": [
        "#importing modules\n",
        "import keras\n",
        "from keras.models import Sequential\n",
        "from keras.layers import Conv2D\n",
        "from keras.layers import MaxPooling2D\n",
        "from keras.layers import Flatten\n",
        "from keras.layers import Dense\n",
        "from keras.layers import Dropout\n",
        "import cv2\n",
        "import numpy as np\n",
        "import numpy as np\n",
        "from keras.preprocessing import image\n",
        "import pandas as pd\n",
        "from keras.preprocessing.image import ImageDataGenerator\n",
        "import os\n",
        "import matplotlib.pyplot as plt\n",
        "import tensorflow as tf\n",
        "IMG_SIZE=256"
      ],
      "execution_count": 2,
      "outputs": [
        {
          "output_type": "stream",
          "text": [
            "Using TensorFlow backend.\n"
          ],
          "name": "stderr"
        }
      ]
    },
    {
      "cell_type": "code",
      "metadata": {
        "id": "_08zFzWbwFgy",
        "colab_type": "code",
        "colab": {}
      },
      "source": [
        "#creating train data\n",
        "import random\n",
        "id_array=[\"0\",\"1\",\"2\",\"3\",\"4\"]\n",
        "#ls=[0,0,0,0,0]\n",
        "train_data=[]\n",
        "i=0\n",
        "j=0\n",
        "k=0\n",
        "l=0\n",
        "m=0\n",
        "path2=\"/content/train\"\n",
        "def create_train_data():\n",
        "  i=0\n",
        "  j=0\n",
        "  k=0\n",
        "  l=0\n",
        "  m=0\n",
        "  for category in id_array:\n",
        "    newpath=os.path.join(path2,category)\n",
        "    class_num=id_array.index(category)\n",
        "    for img in os.listdir(newpath):\n",
        "        img_array=cv2.imread(os.path.join(newpath,img),cv2.IMREAD_COLOR )\n",
        "        new_array=cv2.resize(img_array,(IMG_SIZE,IMG_SIZE))\n",
        "        #plt.imshow(new_array,cmap=\"gray\")\n",
        "        #plt.show()\n",
        "        #break\n",
        "        if class_num==0 :\n",
        "          i=i+1\n",
        "          if i<=144:\n",
        "            train_data.append([new_array,class_num])\n",
        "        elif class_num==1 :\n",
        "          j=j+1\n",
        "          if j<=144:\n",
        "           train_data.append([new_array,class_num])\n",
        "        elif class_num==2 :\n",
        "          k=k+1\n",
        "          if k<=144:\n",
        "           train_data.append([new_array,class_num])\n",
        "        elif class_num==3 :\n",
        "          l=l+1\n",
        "          if l<=144:\n",
        "           train_data.append([new_array,class_num])\n",
        "        elif class_num==4 :\n",
        "          m=m+1\n",
        "          if m<=144:\n",
        "           train_data.append([new_array,class_num])\n",
        "        \n",
        "create_train_data()\n",
        "random.shuffle(train_data)"
      ],
      "execution_count": 0,
      "outputs": []
    },
    {
      "cell_type": "code",
      "metadata": {
        "id": "dLRePHWEBneG",
        "colab_type": "code",
        "colab": {
          "base_uri": "https://localhost:8080/",
          "height": 34
        },
        "outputId": "da8b4ccd-1c60-4232-b6ee-36aeb796e775"
      },
      "source": [
        "print(len(train_data))"
      ],
      "execution_count": 4,
      "outputs": [
        {
          "output_type": "stream",
          "text": [
            "720\n"
          ],
          "name": "stdout"
        }
      ]
    },
    {
      "cell_type": "code",
      "metadata": {
        "id": "m77cZIRqBDOx",
        "colab_type": "code",
        "colab": {
          "base_uri": "https://localhost:8080/",
          "height": 101
        },
        "outputId": "b19768b5-27be-4464-c3df-d620845720ee"
      },
      "source": [
        "print(i)\n",
        "print(j)\n",
        "print(k)\n",
        "print(l)\n",
        "print(m)"
      ],
      "execution_count": 5,
      "outputs": [
        {
          "output_type": "stream",
          "text": [
            "0\n",
            "0\n",
            "0\n",
            "0\n",
            "0\n"
          ],
          "name": "stdout"
        }
      ]
    },
    {
      "cell_type": "code",
      "metadata": {
        "id": "CeNn3irUwIuy",
        "colab_type": "code",
        "colab": {
          "base_uri": "https://localhost:8080/",
          "height": 34
        },
        "outputId": "e0065386-8dcf-4cfe-b7e1-7ea7d9de5f0b"
      },
      "source": [
        "X=[]\n",
        "y=[]\n",
        "i=0  \n",
        "for features , labels in train_data:\n",
        "  X.append(features)\n",
        "  y.append(labels)\n",
        "depth = 5\n",
        "print(len(X))\n",
        "one_hot_y=tf.one_hot(y, depth)\n",
        "ohy=one_hot_y.numpy()\n",
        "X=np.array(X).reshape(-1,IMG_SIZE,IMG_SIZE,3)\n",
        "X=X/255.0"
      ],
      "execution_count": 6,
      "outputs": [
        {
          "output_type": "stream",
          "text": [
            "720\n"
          ],
          "name": "stdout"
        }
      ]
    },
    {
      "cell_type": "code",
      "metadata": {
        "id": "mUYcVn-e-p3g",
        "colab_type": "code",
        "colab": {
          "base_uri": "https://localhost:8080/",
          "height": 134
        },
        "outputId": "473d56e2-d6cc-4635-b0f6-a2000eb45b52"
      },
      "source": [
        "print(ohy)"
      ],
      "execution_count": 7,
      "outputs": [
        {
          "output_type": "stream",
          "text": [
            "[[0. 0. 0. 1. 0.]\n",
            " [1. 0. 0. 0. 0.]\n",
            " [0. 0. 0. 1. 0.]\n",
            " ...\n",
            " [0. 0. 1. 0. 0.]\n",
            " [0. 0. 1. 0. 0.]\n",
            " [0. 0. 0. 1. 0.]]\n"
          ],
          "name": "stdout"
        }
      ]
    },
    {
      "cell_type": "code",
      "metadata": {
        "id": "FuSrumsOwLCt",
        "colab_type": "code",
        "colab": {}
      },
      "source": [
        "from sklearn.model_selection import train_test_split\n",
        "X_train, X_test, y_train, y_test = train_test_split( X, ohy, test_size=0.1, random_state=42)"
      ],
      "execution_count": 0,
      "outputs": []
    },
    {
      "cell_type": "code",
      "metadata": {
        "id": "r8BOhn5Z-Q5l",
        "colab_type": "code",
        "colab": {}
      },
      "source": [
        ""
      ],
      "execution_count": 0,
      "outputs": []
    },
    {
      "cell_type": "code",
      "metadata": {
        "id": "5WgFtthkwQt7",
        "colab_type": "code",
        "colab": {}
      },
      "source": [
        "#creating the model\n",
        "model = Sequential()\n",
        "\n",
        "model.add(Conv2D(32, (3, 3), input_shape = (IMG_SIZE,IMG_SIZE, 3), activation = 'relu'))\n",
        "model.add(MaxPooling2D(pool_size = (2, 2)))\n",
        "\n",
        "model.add(Conv2D(32, (3, 3),padding='same', activation = 'relu'))\n",
        "model.add(MaxPooling2D(pool_size = (2, 2)))\n",
        "\n",
        "\n",
        "model.add(Conv2D(32, (3, 3),padding='same', activation = 'relu'))\n",
        "model.add(MaxPooling2D(pool_size = (2, 2)))\n",
        "model.add(Dropout(0.25))\n",
        "\n",
        "model.add(Conv2D(64, (3, 3), activation = 'relu'))\n",
        "model.add(MaxPooling2D(pool_size = (2, 2)))\n",
        "model.add(Dropout(0.25))\n",
        "model.add(Flatten())\n",
        "\n",
        "model.add(Dense(units = 128, activation = 'relu'))\n",
        "# model.add(Dense(units = 16, activation = 'relu'))\n",
        "model.add(Dense(units = 5, activation = 'softmax'))"
      ],
      "execution_count": 0,
      "outputs": []
    },
    {
      "cell_type": "code",
      "metadata": {
        "id": "PDREUH9vwTK2",
        "colab_type": "code",
        "colab": {}
      },
      "source": [
        "opt = keras.optimizers.Adagrad(learning_rate=0.01)\n",
        "model.compile(loss='categorical_crossentropy', optimizer=opt, metrics=['accuracy'])"
      ],
      "execution_count": 0,
      "outputs": []
    },
    {
      "cell_type": "code",
      "metadata": {
        "id": "47AL6NqowVZV",
        "colab_type": "code",
        "colab": {
          "base_uri": "https://localhost:8080/",
          "height": 726
        },
        "outputId": "71d35406-3a2a-4746-ab80-b290b17ab0f8"
      },
      "source": [
        "model.fit_generator(datagen.flow(X_train, y_train,\n",
        "                                     batch_size=32),\n",
        "                        epochs=20,\n",
        "                        validation_data=(X_test, y_test),\n",
        "                        workers=4)"
      ],
      "execution_count": 12,
      "outputs": [
        {
          "output_type": "stream",
          "text": [
            "Epoch 1/20\n",
            "21/21 [==============================] - 62s 3s/step - loss: 2.4602 - accuracy: 0.2068 - val_loss: 1.6078 - val_accuracy: 0.2778\n",
            "Epoch 2/20\n",
            "21/21 [==============================] - 57s 3s/step - loss: 1.6005 - accuracy: 0.2083 - val_loss: 1.5996 - val_accuracy: 0.2917\n",
            "Epoch 3/20\n",
            "21/21 [==============================] - 58s 3s/step - loss: 1.5676 - accuracy: 0.2948 - val_loss: 1.5481 - val_accuracy: 0.2639\n",
            "Epoch 4/20\n",
            "21/21 [==============================] - 58s 3s/step - loss: 1.5376 - accuracy: 0.3410 - val_loss: 1.5135 - val_accuracy: 0.3750\n",
            "Epoch 5/20\n",
            "21/21 [==============================] - 57s 3s/step - loss: 1.5155 - accuracy: 0.3256 - val_loss: 1.5214 - val_accuracy: 0.2917\n",
            "Epoch 6/20\n",
            "21/21 [==============================] - 59s 3s/step - loss: 1.4919 - accuracy: 0.3333 - val_loss: 1.5003 - val_accuracy: 0.3889\n",
            "Epoch 7/20\n",
            "21/21 [==============================] - 57s 3s/step - loss: 1.4783 - accuracy: 0.3488 - val_loss: 1.5025 - val_accuracy: 0.4028\n",
            "Epoch 8/20\n",
            "21/21 [==============================] - 57s 3s/step - loss: 1.4564 - accuracy: 0.3519 - val_loss: 1.4517 - val_accuracy: 0.3889\n",
            "Epoch 9/20\n",
            "21/21 [==============================] - 57s 3s/step - loss: 1.4709 - accuracy: 0.3503 - val_loss: 1.4740 - val_accuracy: 0.3056\n",
            "Epoch 10/20\n",
            "21/21 [==============================] - 58s 3s/step - loss: 1.4398 - accuracy: 0.3673 - val_loss: 1.4450 - val_accuracy: 0.3611\n",
            "Epoch 11/20\n",
            "21/21 [==============================] - 57s 3s/step - loss: 1.4177 - accuracy: 0.3904 - val_loss: 1.4436 - val_accuracy: 0.3333\n",
            "Epoch 12/20\n",
            "21/21 [==============================] - 58s 3s/step - loss: 1.4089 - accuracy: 0.3719 - val_loss: 1.4767 - val_accuracy: 0.3472\n",
            "Epoch 13/20\n",
            "21/21 [==============================] - 58s 3s/step - loss: 1.4148 - accuracy: 0.3904 - val_loss: 1.4770 - val_accuracy: 0.3056\n",
            "Epoch 14/20\n",
            "21/21 [==============================] - 58s 3s/step - loss: 1.4034 - accuracy: 0.3750 - val_loss: 1.4485 - val_accuracy: 0.3194\n",
            "Epoch 15/20\n",
            "21/21 [==============================] - 57s 3s/step - loss: 1.3672 - accuracy: 0.4090 - val_loss: 1.4133 - val_accuracy: 0.4167\n",
            "Epoch 16/20\n",
            "21/21 [==============================] - 60s 3s/step - loss: 1.3709 - accuracy: 0.3981 - val_loss: 1.4379 - val_accuracy: 0.4028\n",
            "Epoch 17/20\n",
            "21/21 [==============================] - 57s 3s/step - loss: 1.3375 - accuracy: 0.4213 - val_loss: 1.4096 - val_accuracy: 0.3611\n",
            "Epoch 18/20\n",
            "21/21 [==============================] - 58s 3s/step - loss: 1.3511 - accuracy: 0.4090 - val_loss: 1.4005 - val_accuracy: 0.3889\n",
            "Epoch 19/20\n",
            "21/21 [==============================] - 58s 3s/step - loss: 1.3302 - accuracy: 0.4136 - val_loss: 1.3981 - val_accuracy: 0.3333\n",
            "Epoch 20/20\n",
            "21/21 [==============================] - 58s 3s/step - loss: 1.3217 - accuracy: 0.4444 - val_loss: 1.4078 - val_accuracy: 0.4167\n"
          ],
          "name": "stdout"
        },
        {
          "output_type": "execute_result",
          "data": {
            "text/plain": [
              "<keras.callbacks.callbacks.History at 0x7fb46b5cc7b8>"
            ]
          },
          "metadata": {
            "tags": []
          },
          "execution_count": 12
        }
      ]
    },
    {
      "cell_type": "code",
      "metadata": {
        "id": "PoCQHyLuwYC3",
        "colab_type": "code",
        "colab": {
          "base_uri": "https://localhost:8080/",
          "height": 252
        },
        "outputId": "6c647147-8621-4f1a-eaf4-4588a18a6265"
      },
      "source": [
        "\n",
        "# Predicting USing the model\n",
        "sdf=pd.read_csv(\"/content/sample.csv\")\n",
        "img_array=sdf['image']\n",
        "pathf=\"/content/test/\"\n",
        "y_f=[]\n",
        "for image1 in img_array:\n",
        "  newpath=pathf+image1\n",
        "  img=image.load_img(newpath,target_size=(IMG_SIZE,IMG_SIZE))\n",
        "  img=image.img_to_array(img)\n",
        "  img=np.expand_dims(img,axis=0)\n",
        "  img=img/255\n",
        "  value=model.predict(img)\n",
        "  y_f.append(value)\n",
        "  z_f=[]\n",
        "for a in y_f:\n",
        "  for data in a:\n",
        "    z=np.argmax(data, axis=None)\n",
        "    z_f.append(z)\n",
        "    \n",
        "  \n",
        "dict={\n",
        "    'image': img_array,\n",
        "    'label': z_f\n",
        "}\n",
        "dff=pd.DataFrame.from_dict(dict)\n",
        "dff.to_csv(\"ans.csv\",index=False)\n",
        "print(dff)"
      ],
      "execution_count": 13,
      "outputs": [
        {
          "output_type": "stream",
          "text": [
            "       image  label\n",
            "0      0.jpg      1\n",
            "1      1.jpg      1\n",
            "2     10.jpg      1\n",
            "3     11.jpg      2\n",
            "4     12.jpg      1\n",
            "..       ...    ...\n",
            "276  276.jpg      1\n",
            "277  277.jpg      2\n",
            "278  278.jpg      2\n",
            "279  279.jpg      1\n",
            "280  280.jpg      2\n",
            "\n",
            "[281 rows x 2 columns]\n"
          ],
          "name": "stdout"
        }
      ]
    }
  ]
}