{
  "nbformat": 4,
  "nbformat_minor": 0,
  "metadata": {
    "colab": {
      "name": "mutipleclassification.ipynb",
      "provenance": [],
      "collapsed_sections": [],
      "mount_file_id": "1fHcw5EnFdmJn-424c9CiIiA2fAX8sJvm",
      "authorship_tag": "ABX9TyPScGiPufTM/SGXkwzegeaY",
      "include_colab_link": true
    },
    "kernelspec": {
      "name": "python3",
      "display_name": "Python 3"
    }
  },
  "cells": [
    {
      "cell_type": "markdown",
      "metadata": {
        "id": "view-in-github",
        "colab_type": "text"
      },
      "source": [
        "<a href=\"https://colab.research.google.com/github/arindam15964/mlrepo1/blob/master/mutipleclassification.ipynb\" target=\"_parent\"><img src=\"https://colab.research.google.com/assets/colab-badge.svg\" alt=\"Open In Colab\"/></a>"
      ]
    },
    {
      "cell_type": "code",
      "metadata": {
        "id": "FYmc9UgNmd3e",
        "colab_type": "code",
        "colab": {}
      },
      "source": [
        "#importing modules\n",
        "import keras\n",
        "from keras.models import Sequential\n",
        "from keras.layers import Conv2D\n",
        "from keras.layers import MaxPooling2D\n",
        "from keras.layers import Flatten\n",
        "from keras.layers import Dense\n",
        "import cv2\n",
        "import numpy as np\n",
        "import numpy as np\n",
        "from keras.preprocessing import image\n",
        "import pandas as pd\n",
        "from keras.preprocessing.image import ImageDataGenerator\n",
        "import os\n",
        "import matplotlib.pyplot as plt\n",
        "import tensorflow as tf\n",
        "IMG_SIZE=256"
      ],
      "execution_count": 0,
      "outputs": []
    },
    {
      "cell_type": "code",
      "metadata": {
        "colab_type": "code",
        "id": "lDJbAL1eRvzJ",
        "colab": {}
      },
      "source": [
        "# IMG_SIZE=128\n",
        "# sath=\"/content/test/0.jpg\"\n",
        "# img_array=cv2.imread(sath,cv2.IMREAD_GRAYSCALE)\n",
        "# new_array=cv2.resize(img_array,(IMG_SIZE,IMG_SIZE))\n",
        "# plt.imshow(new_array,\"gray\")\n",
        "# plt.show()\n"
      ],
      "execution_count": 0,
      "outputs": []
    },
    {
      "cell_type": "code",
      "metadata": {
        "id": "sPPKbrJutytz",
        "colab_type": "code",
        "colab": {}
      },
      "source": [
        "#creating train data\n",
        "import random\n",
        "id_array=[\"0\",\"1\",\"2\",\"3\",\"4\"]\n",
        "train_data=[]\n",
        "path2=\"/content/train\"\n",
        "def create_train_data():\n",
        "  for category in id_array:\n",
        "    newpath=os.path.join(path2,category)\n",
        "    class_num=id_array.index(category)\n",
        "    for img in os.listdir(newpath):\n",
        "        img_array=cv2.imread(os.path.join(newpath,img),cv2.IMREAD_COLOR )\n",
        "        new_array=cv2.resize(img_array,(IMG_SIZE,IMG_SIZE))\n",
        "        #plt.imshow(new_array,cmap=\"gray\")\n",
        "        #plt.show()\n",
        "        #break\n",
        "        train_data.append([new_array,class_num])\n",
        "create_train_data()\n",
        "random.shuffle(train_data)"
      ],
      "execution_count": 0,
      "outputs": []
    },
    {
      "cell_type": "code",
      "metadata": {
        "id": "pf2X_Alwx8Kj",
        "colab_type": "code",
        "colab": {
          "base_uri": "https://localhost:8080/",
          "height": 34
        },
        "outputId": "a91bf906-6366-433c-ba2b-51c9341c2854"
      },
      "source": [
        "len(train_data)"
      ],
      "execution_count": 10,
      "outputs": [
        {
          "output_type": "execute_result",
          "data": {
            "text/plain": [
              "1659"
            ]
          },
          "metadata": {
            "tags": []
          },
          "execution_count": 10
        }
      ]
    },
    {
      "cell_type": "code",
      "metadata": {
        "id": "NuRYDSiWvASw",
        "colab_type": "code",
        "colab": {
          "base_uri": "https://localhost:8080/",
          "height": 34
        },
        "outputId": "87dc5b16-5e72-4164-df46-4f852269d130"
      },
      "source": [
        "X=[]\n",
        "y=[]\n",
        "i=0  \n",
        "for features , labels in train_data:\n",
        "  X.append(features)\n",
        "  y.append(labels)\n",
        "depth = 5\n",
        "print(len(X))\n",
        "one_hot_y=tf.one_hot(y, depth)\n",
        "ohy=one_hot_y.numpy()\n",
        "X=np.array(X).reshape(-1,IMG_SIZE,IMG_SIZE,3)\n",
        "X=X/255.0"
      ],
      "execution_count": 11,
      "outputs": [
        {
          "output_type": "stream",
          "text": [
            "1659\n"
          ],
          "name": "stdout"
        }
      ]
    },
    {
      "cell_type": "code",
      "metadata": {
        "id": "xR_BWEXsx08J",
        "colab_type": "code",
        "colab": {
          "base_uri": "https://localhost:8080/",
          "height": 34
        },
        "outputId": "46c88e2d-b300-4232-f669-73ccf130bc29"
      },
      "source": [
        "X.shape"
      ],
      "execution_count": 12,
      "outputs": [
        {
          "output_type": "execute_result",
          "data": {
            "text/plain": [
              "(1659, 256, 256, 3)"
            ]
          },
          "metadata": {
            "tags": []
          },
          "execution_count": 12
        }
      ]
    },
    {
      "cell_type": "code",
      "metadata": {
        "id": "f9oRONgim-Kt",
        "colab_type": "code",
        "colab": {}
      },
      "source": [
        "#creating the model\n",
        "model = Sequential()\n",
        "\n",
        "model.add(Conv2D(32, (3, 3), input_shape = (IMG_SIZE,IMG_SIZE, 3), activation = 'relu'))\n",
        "\n",
        "\n",
        "model.add(Conv2D(32, (3, 3), activation = 'relu'))\n",
        "model.add(MaxPooling2D(pool_size = (2, 2)))\n",
        "\n",
        "model.add(Conv2D(32, (3, 3), activation = 'relu'))\n",
        "model.add(MaxPooling2D(pool_size = (2, 2)))\n",
        "\n",
        "model.add(Conv2D(32, (3, 3), activation = 'relu'))\n",
        "model.add(MaxPooling2D(pool_size = (2, 2)))\n",
        "\n",
        "model.add(Conv2D(32, (3, 3), activation = 'relu'))\n",
        "model.add(MaxPooling2D(pool_size = (2, 2)))\n",
        "\n",
        "model.add(Conv2D(32, (3, 3), activation = 'relu'))\n",
        "model.add(MaxPooling2D(pool_size = (2, 2)))\n",
        "\n",
        "model.add(Conv2D(64, (3, 3), activation = 'relu'))\n",
        "model.add(MaxPooling2D(pool_size = (2, 2)))\n",
        "\n",
        "model.add(Flatten())\n",
        "\n",
        "model.add(Dense(units = 128, activation = 'relu'))\n",
        "# model.add(Dense(units = 16, activation = 'relu'))\n",
        "model.add(Dense(units = 5, activation = 'softmax'))\n"
      ],
      "execution_count": 0,
      "outputs": []
    },
    {
      "cell_type": "code",
      "metadata": {
        "id": "MkvqmKI-xW2i",
        "colab_type": "code",
        "colab": {
          "base_uri": "https://localhost:8080/",
          "height": 403
        },
        "outputId": "482efd76-803a-4947-991b-7f2ad43d3cb8"
      },
      "source": [
        "# Compiling the CNN\n",
        "# opt = keras.optimizers.RMSprop(learning_rate=0.0001, decay=1e-6)\n",
        "model.compile(loss='categorical_crossentropy', optimizer='adam', metrics=['accuracy'])\n",
        "model.fit(X,ohy,batch_size=64,epochs=100,validation_split=0.1)"
      ],
      "execution_count": 0,
      "outputs": [
        {
          "output_type": "stream",
          "text": [
            "Train on 1493 samples, validate on 166 samples\n",
            "Epoch 1/100\n",
            "1493/1493 [==============================] - 284s 190ms/step - loss: 1.5384 - accuracy: 0.3115 - val_loss: 1.4734 - val_accuracy: 0.3675\n",
            "Epoch 2/100\n",
            "1493/1493 [==============================] - 286s 192ms/step - loss: 1.4483 - accuracy: 0.3677 - val_loss: 1.4507 - val_accuracy: 0.3735\n",
            "Epoch 3/100\n",
            "1493/1493 [==============================] - 286s 192ms/step - loss: 1.4411 - accuracy: 0.3644 - val_loss: 1.3938 - val_accuracy: 0.3494\n",
            "Epoch 4/100\n",
            "1493/1493 [==============================] - 283s 189ms/step - loss: 1.3541 - accuracy: 0.4300 - val_loss: 1.2926 - val_accuracy: 0.4699\n",
            "Epoch 5/100\n",
            "1493/1493 [==============================] - 286s 191ms/step - loss: 1.3294 - accuracy: 0.4273 - val_loss: 1.2993 - val_accuracy: 0.4458\n",
            "Epoch 6/100\n",
            "1493/1493 [==============================] - 283s 190ms/step - loss: 1.3118 - accuracy: 0.4481 - val_loss: 1.2866 - val_accuracy: 0.4759\n",
            "Epoch 7/100\n",
            "1493/1493 [==============================] - 285s 191ms/step - loss: 1.2838 - accuracy: 0.4481 - val_loss: 1.2934 - val_accuracy: 0.4518\n",
            "Epoch 8/100\n",
            "1493/1493 [==============================] - 282s 189ms/step - loss: 1.2623 - accuracy: 0.4776 - val_loss: 1.2371 - val_accuracy: 0.5000\n",
            "Epoch 9/100\n",
            "1493/1493 [==============================] - 283s 189ms/step - loss: 1.2275 - accuracy: 0.4869 - val_loss: 1.2358 - val_accuracy: 0.4699\n",
            "Epoch 10/100\n",
            "1493/1493 [==============================] - 283s 189ms/step - loss: 1.2223 - accuracy: 0.4910 - val_loss: 1.2409 - val_accuracy: 0.4518\n",
            "Epoch 11/100\n",
            " 192/1493 [==>...........................] - ETA: 4:00 - loss: 1.1489 - accuracy: 0.5052"
          ],
          "name": "stdout"
        }
      ]
    },
    {
      "cell_type": "code",
      "metadata": {
        "id": "wRFw5B5_nwwy",
        "colab_type": "code",
        "colab": {}
      },
      "source": [
        "# #creating training data generator\n",
        "# train_datagen = ImageDataGenerator(\n",
        "#     rescale = 1./255,\n",
        "#     shear_range = 0.2,\n",
        "#     zoom_range = 0.2,\n",
        "#     horizontal_flip = True\n",
        "# )\n",
        "\n",
        "# train_generator = train_datagen.flow_from_directory(\n",
        "#     directory=r\"/content/train\",\n",
        "#     target_size=(IMG_SIZE, IMG_SIZE),\n",
        "#     color_mode=\"rgb\",\n",
        "#     batch_size=32,\n",
        "#     class_mode=\"categorical\",\n",
        "#     shuffle=True,\n",
        "#     seed=42\n",
        "# )"
      ],
      "execution_count": 0,
      "outputs": []
    },
    {
      "cell_type": "code",
      "metadata": {
        "id": "qQQ9lQhVrlo8",
        "colab_type": "code",
        "colab": {}
      },
      "source": [
        "# #Fitting the traing data\n",
        "# model.fit_generator(\n",
        "#     train_generator,\n",
        "#     epochs=5,\n",
        "#     steps_per_epoch =  1659,\n",
        "# )"
      ],
      "execution_count": 0,
      "outputs": []
    },
    {
      "cell_type": "code",
      "metadata": {
        "id": "5FMKUXAHwq28",
        "colab_type": "code",
        "colab": {}
      },
      "source": [
        ""
      ],
      "execution_count": 0,
      "outputs": []
    },
    {
      "cell_type": "code",
      "metadata": {
        "id": "slmZqICFsixA",
        "colab_type": "code",
        "colab": {}
      },
      "source": [
        "# Predicting USing the model\n",
        "sdf=pd.read_csv(\"/content/sample.csv\")\n",
        "img_array=sdf['image']\n",
        "pathf=\"/content/test/\"\n",
        "y_f=[]\n",
        "for image1 in img_array:\n",
        "  newpath=pathf+image1\n",
        "  img=image.load_img(newpath,target_size=(IMG_SIZE,IMG_SIZE))\n",
        "  img=image.img_to_array(img)\n",
        "  img=np.expand_dims(img,axis=0)\n",
        "  img=img/255\n",
        "  value=model.predict(img)\n",
        "  y_f.append(value)\n",
        "  z_f=[]\n",
        "for a in y_f:\n",
        "  for data in a:\n",
        "    z=np.argmax(data, axis=None)\n",
        "    z_f.append(z)\n",
        "    \n",
        "  \n",
        "dict={\n",
        "    'image': img_array,\n",
        "    'label': z_f\n",
        "}\n",
        "dff=pd.DataFrame.from_dict(dict)"
      ],
      "execution_count": 0,
      "outputs": []
    },
    {
      "cell_type": "code",
      "metadata": {
        "id": "moNUSvhFKTH3",
        "colab_type": "code",
        "colab": {}
      },
      "source": [
        "dff.to_csv(\"ans.csv\",index=False)\n",
        "print(dff)"
      ],
      "execution_count": 0,
      "outputs": []
    }
  ]
}