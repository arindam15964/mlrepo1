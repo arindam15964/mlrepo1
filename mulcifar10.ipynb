{
  "nbformat": 4,
  "nbformat_minor": 0,
  "metadata": {
    "colab": {
      "name": "mulcifar10.ipynb",
      "provenance": [],
      "authorship_tag": "ABX9TyP7BerTxnW61T3IqivoFumy",
      "include_colab_link": true
    },
    "kernelspec": {
      "name": "python3",
      "display_name": "Python 3"
    }
  },
  "cells": [
    {
      "cell_type": "markdown",
      "metadata": {
        "id": "view-in-github",
        "colab_type": "text"
      },
      "source": [
        "<a href=\"https://colab.research.google.com/github/arindam15964/mlrepo1/blob/master/mulcifar10.ipynb\" target=\"_parent\"><img src=\"https://colab.research.google.com/assets/colab-badge.svg\" alt=\"Open In Colab\"/></a>"
      ]
    },
    {
      "cell_type": "code",
      "metadata": {
        "id": "zVQA54FTtQAW",
        "colab_type": "code",
        "colab": {}
      },
      "source": [
        "#importing modules\n",
        "import keras\n",
        "from keras.models import Sequential\n",
        "from keras.layers import Conv2D\n",
        "from keras.layers import MaxPooling2D\n",
        "from keras.layers import Flatten\n",
        "from keras.layers import Dense\n",
        "from keras.layers import Dropout\n",
        "import cv2\n",
        "import numpy as np\n",
        "import numpy as np\n",
        "from keras.preprocessing import image\n",
        "import pandas as pd\n",
        "from keras.preprocessing.image import ImageDataGenerator\n",
        "import os\n",
        "import matplotlib.pyplot as plt\n",
        "import tensorflow as tf\n",
        "IMG_SIZE=128"
      ],
      "execution_count": 0,
      "outputs": []
    },
    {
      "cell_type": "code",
      "metadata": {
        "id": "57ALh6TAtX1p",
        "colab_type": "code",
        "colab": {}
      },
      "source": [
        "#creating train data\n",
        "import random\n",
        "id_array=[\"0\",\"1\",\"2\",\"3\",\"4\"]\n",
        "#ls=[0,0,0,0,0]\n",
        "train_data=[]\n",
        "path2=\"/content/train\"\n",
        "def create_train_data():\n",
        "  for category in id_array:\n",
        "    newpath=os.path.join(path2,category)\n",
        "    class_num=id_array.index(category)\n",
        "    for img in os.listdir(newpath):\n",
        "        img_array=cv2.imread(os.path.join(newpath,img),cv2.IMREAD_COLOR )\n",
        "        new_array=cv2.resize(img_array,(IMG_SIZE,IMG_SIZE))\n",
        "        #plt.imshow(new_array,cmap=\"gray\")\n",
        "        #plt.show()\n",
        "        #break\n",
        "        if class_num==0 :\n",
        "          i=2\n",
        "        elif class_num==1 :\n",
        "          i=4\n",
        "        elif class_num==2 :\n",
        "          i=1\n",
        "        elif class_num==3 :\n",
        "          i=2\n",
        "        elif class_num==4 :\n",
        "          i=2\n",
        "        j=0\n",
        "        while j<i:\n",
        "          # ls[class_num]=ls[class_num]+1\n",
        "          train_data.append([new_array,class_num])\n",
        "          j=j+1\n",
        "create_train_data()\n",
        "random.shuffle(train_data)"
      ],
      "execution_count": 0,
      "outputs": []
    },
    {
      "cell_type": "code",
      "metadata": {
        "id": "VWoGfmmFtkQ5",
        "colab_type": "code",
        "colab": {}
      },
      "source": [
        "X=[]\n",
        "y=[]\n",
        "i=0  \n",
        "for features , labels in train_data:\n",
        "  X.append(features)\n",
        "  y.append(labels)\n",
        "depth = 5\n",
        "print(len(X))\n",
        "one_hot_y=tf.one_hot(y, depth)\n",
        "ohy=one_hot_y.numpy()\n",
        "X=np.array(X).reshape(-1,IMG_SIZE,IMG_SIZE,3)\n",
        "X=X/255.0"
      ],
      "execution_count": 0,
      "outputs": []
    },
    {
      "cell_type": "code",
      "metadata": {
        "id": "WxkpxJxqtuyv",
        "colab_type": "code",
        "colab": {}
      },
      "source": [
        "from sklearn.model_selection import train_test_split\n",
        "X_train, X_test, y_train, y_test = train_test_split( X, ohy, test_size=0.1, random_state=42)"
      ],
      "execution_count": 0,
      "outputs": []
    },
    {
      "cell_type": "code",
      "metadata": {
        "colab_type": "code",
        "id": "PyvrzwPNvOGO",
        "colab": {}
      },
      "source": [
        "datagen = ImageDataGenerator(\n",
        "        featurewise_center=False,  # set input mean to 0 over the dataset\n",
        "        samplewise_center=False,  # set each sample mean to 0\n",
        "        featurewise_std_normalization=False,  # divide inputs by std of the dataset\n",
        "        samplewise_std_normalization=False,  # divide each input by its std\n",
        "        zca_whitening=False,  # apply ZCA whitening\n",
        "        zca_epsilon=1e-06,  # epsilon for ZCA whitening\n",
        "        rotation_range=0,  # randomly rotate images in the range (degrees, 0 to 180)\n",
        "        # randomly shift images horizontally (fraction of total width)\n",
        "        width_shift_range=0.1,\n",
        "        # randomly shift images vertically (fraction of total height)\n",
        "        height_shift_range=0.1,\n",
        "        shear_range=0.,  # set range for random shear\n",
        "        zoom_range=0.,  # set range for random zoom\n",
        "        channel_shift_range=0.,  # set range for random channel shifts\n",
        "        # set mode for filling points outside the input boundaries\n",
        "        fill_mode='nearest',\n",
        "        cval=0.,  # value used for fill_mode = \"constant\"\n",
        "        horizontal_flip=True,  # randomly flip images\n",
        "        vertical_flip=False,  # randomly flip images\n",
        "        # set rescaling factor (applied before any other transformation)\n",
        "        rescale=None,\n",
        "        # set function that will be applied on each input\n",
        "        preprocessing_function=None,\n",
        "        # image data format, either \"channels_first\" or \"channels_last\"\n",
        "        data_format=None,\n",
        "        # fraction of images reserved for validation (strictly between 0 and 1)\n",
        "        validation_split=0.0)\n",
        "\n",
        "datagen.fit(X_train)\n"
      ],
      "execution_count": 0,
      "outputs": []
    },
    {
      "cell_type": "code",
      "metadata": {
        "id": "S9x_JkLEvQaC",
        "colab_type": "code",
        "colab": {}
      },
      "source": [
        "#creating the model\n",
        "model = Sequential()\n",
        "\n",
        "model.add(Conv2D(32, (3, 3), input_shape = (IMG_SIZE,IMG_SIZE, 3), activation = 'relu'))\n",
        "model.add(MaxPooling2D(pool_size = (2, 2)))\n",
        "\n",
        "model.add(Conv2D(32, (3, 3),padding='same', activation = 'relu'))\n",
        "model.add(MaxPooling2D(pool_size = (2, 2)))\n",
        "model.add(Dropout(0.25))\n",
        "\n",
        "model.add(Conv2D(64, (3, 3), activation = 'relu'))\n",
        "model.add(MaxPooling2D(pool_size = (2, 2)))\n",
        "model.add(Dropout(0.25))\n",
        "model.add(Flatten())\n",
        "\n",
        "model.add(Dense(units = 128, activation = 'relu'))\n",
        "# model.add(Dense(units = 16, activation = 'relu'))\n",
        "model.add(Dense(units = 5, activation = 'softmax'))"
      ],
      "execution_count": 0,
      "outputs": []
    },
    {
      "cell_type": "code",
      "metadata": {
        "id": "YOElwlHMvWnK",
        "colab_type": "code",
        "colab": {}
      },
      "source": [
        "opt = keras.optimizers.RMSprop(learning_rate=0.0001, decay=1e-6)\n",
        "model.compile(loss='categorical_crossentropy', optimizer=opt, metrics=['accuracy'])"
      ],
      "execution_count": 0,
      "outputs": []
    },
    {
      "cell_type": "code",
      "metadata": {
        "id": "jNhVCMaVvh0H",
        "colab_type": "code",
        "colab": {}
      },
      "source": [
        "model.fit_generator(datagen.flow(x_train, y_train,\n",
        "                                     batch_size=64),\n",
        "                        epochs=50,\n",
        "                        validation_data=(x_test, y_test),\n",
        "                        workers=4)"
      ],
      "execution_count": 0,
      "outputs": []
    },
    {
      "cell_type": "code",
      "metadata": {
        "id": "gvkzUJsAvojh",
        "colab_type": "code",
        "colab": {}
      },
      "source": [
        "# Predicting USing the model\n",
        "sdf=pd.read_csv(\"/content/sample.csv\")\n",
        "img_array=sdf['image']\n",
        "pathf=\"/content/test/\"\n",
        "y_f=[]\n",
        "for image1 in img_array:\n",
        "  newpath=pathf+image1\n",
        "  img=image.load_img(newpath,target_size=(IMG_SIZE,IMG_SIZE))\n",
        "  img=image.img_to_array(img)\n",
        "  img=np.expand_dims(img,axis=0)\n",
        "  img=img/255\n",
        "  value=model.predict(img)\n",
        "  y_f.append(value)\n",
        "  z_f=[]\n",
        "for a in y_f:\n",
        "  for data in a:\n",
        "    z=np.argmax(data, axis=None)\n",
        "    z_f.append(z)\n",
        "    \n",
        "  \n",
        "dict={\n",
        "    'image': img_array,\n",
        "    'label': z_f\n",
        "}\n",
        "dff=pd.DataFrame.from_dict(dict)\n",
        "dff.to_csv(\"ans.csv\",index=False)\n",
        "print(dff)"
      ],
      "execution_count": 0,
      "outputs": []
    }
  ]
}